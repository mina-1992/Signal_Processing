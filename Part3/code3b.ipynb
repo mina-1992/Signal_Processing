{
 "cells": [
  {
   "cell_type": "code",
   "execution_count": 3,
   "metadata": {},
   "outputs": [
    {
     "name": "stdout",
     "output_type": "stream",
     "text": [
      "[ 0.00000000e+00-0.00000000e+00j -8.83883476e-02-6.93889390e-18j\n",
      " -1.25000000e-01-3.06161700e-17j -8.83883476e-02+0.00000000e+00j\n",
      "  4.59242550e-17-0.00000000e+00j  8.83883476e-02+9.71445147e-17j\n",
      "  1.25000000e-01-1.91737925e-17j  8.83883476e-02+1.87350135e-16j]\n"
     ]
    },
    {
     "data": {
      "text/plain": [
       "True"
      ]
     },
     "execution_count": 3,
     "metadata": {},
     "output_type": "execute_result"
    }
   ],
   "source": [
    "import numpy as np\n",
    "\n",
    "def idft_slow(y):\n",
    "    \"\"\"Compute the inverse discrete Fourier Transform of the 1D array y\"\"\"\n",
    "    y = np.asarray(y, dtype=complex)\n",
    "    N = y.shape[0]\n",
    "    n = np.arange(N)\n",
    "    k = n.reshape((N, 1))\n",
    "    M = np.exp(2j * np.pi * k * n / N)\n",
    "    return np.dot(M, y) / N\n",
    "\n",
    "def ifft(x):\n",
    "    \"\"\"Compute the IFFT of the 1D array x using the Cooley-Tukey algorithm\"\"\"\n",
    "    x = np.asarray(x, dtype=complex)\n",
    "    N = x.shape[0]\n",
    "\n",
    "    if N % 2 > 0:\n",
    "        raise ValueError(\"Size of x must be a power of 2\")\n",
    "\n",
    "    elif N <= 32:  # switch to brute-force\n",
    "        return idft_slow(x)\n",
    "\n",
    "    else:\n",
    "        X_even = ifft(x[::2])\n",
    "        X_odd = ifft(x[1::2])\n",
    "        factor = np.exp(2j * np.pi * np.arange(N) / N)\n",
    "        return np.concatenate([X_even + factor[:N // 2] * X_odd,\n",
    "                               X_even + factor[N // 2:] * X_odd]) / 2\n",
    "\n",
    "# Compute the inverse DFT of the vector [0, -4j, 0, 0, 0, 0, 0, 4j]\n",
    "x = np.array([0, -4j, 0, 0, 0, 0, 0, 4j])\n",
    "y = np.conj(ifft(np.conj(x))) / len(x)\n",
    "print(y)\n",
    "\n",
    "\n",
    "np.allclose(ifft(x), np.fft.ifft(x))"
   ]
  },
  {
   "cell_type": "code",
   "execution_count": 10,
   "metadata": {},
   "outputs": [
    {
     "name": "stdout",
     "output_type": "stream",
     "text": [
      "[ 0.        +0.j  0.70710678+0.j  1.        +0.j  0.70710678+0.j\n",
      "  0.        +0.j -0.70710678+0.j -1.        +0.j -0.70710678+0.j]\n"
     ]
    }
   ],
   "source": [
    "import numpy as np\n",
    "\n",
    "X = [0, -4j, 0, 0, 0, 0, 0, 4j]\n",
    "y = np.fft.ifft(X)\n",
    "print(y)\n"
   ]
  },
  {
   "attachments": {},
   "cell_type": "markdown",
   "metadata": {},
   "source": [
    "The numpy.fft.ifft() function and the custom ifft() function have produced similar results, but with a small difference in the imaginary part of some of the elements. This is most likely due to small numerical errors in the computations. Both functions have produced correct results, as the inverse of the original vector has been obtained."
   ]
  }
 ],
 "metadata": {
  "kernelspec": {
   "display_name": "base",
   "language": "python",
   "name": "python3"
  },
  "language_info": {
   "codemirror_mode": {
    "name": "ipython",
    "version": 3
   },
   "file_extension": ".py",
   "mimetype": "text/x-python",
   "name": "python",
   "nbconvert_exporter": "python",
   "pygments_lexer": "ipython3",
   "version": "3.9.7"
  },
  "orig_nbformat": 4
 },
 "nbformat": 4,
 "nbformat_minor": 2
}
