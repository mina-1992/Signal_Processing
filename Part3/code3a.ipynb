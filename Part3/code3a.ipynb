{
 "cells": [
  {
   "cell_type": "code",
   "execution_count": 7,
   "metadata": {},
   "outputs": [
    {
     "name": "stdout",
     "output_type": "stream",
     "text": [
      "[-1.11022302e-16+0.00000000e+00j  5.55111512e-16-4.00000000e+00j\n",
      " -1.41004590e-16+2.22044605e-16j  0.00000000e+00-7.77156117e-16j\n",
      "  0.00000000e+00+2.02906125e-16j  1.33226763e-15+1.77635684e-15j\n",
      "  2.45624385e-15+7.77156117e-16j -2.99760217e-15+4.00000000e+00j]\n"
     ]
    },
    {
     "data": {
      "text/plain": [
       "True"
      ]
     },
     "execution_count": 7,
     "metadata": {},
     "output_type": "execute_result"
    }
   ],
   "source": [
    "import numpy as np\n",
    "\n",
    "def dft_slow(x):\n",
    "    \"\"\"Compute the discrete Fourier Transform of the 1D array x\"\"\"\n",
    "    x = np.asarray(x, dtype=float)\n",
    "    N = x.shape[0]\n",
    "    n = np.arange(N)\n",
    "    k = n.reshape((N, 1))\n",
    "    M = np.exp(-2j * np.pi * k * n / N)\n",
    "    return np.dot(M, x)\n",
    "\n",
    "x = np.array([0, np.sqrt(2)/2, 1, np.sqrt(2)/2, 0, -np.sqrt(2)/2, -1, -np.sqrt(2)/2])\n",
    "y = dft_slow(x)\n",
    "print(y)\n",
    "np.allclose(dft_slow(x), np.fft.fft(x))"
   ]
  },
  {
   "cell_type": "code",
   "execution_count": 7,
   "metadata": {},
   "outputs": [
    {
     "name": "stdout",
     "output_type": "stream",
     "text": [
      "[0.+0.00000000e+00j 0.-3.99998082e+00j 0.+0.00000000e+00j\n",
      " 0.+1.91800920e-05j 0.+0.00000000e+00j 0.-1.91800920e-05j\n",
      " 0.+0.00000000e+00j 0.+3.99998082e+00j]\n"
     ]
    }
   ],
   "source": [
    "import numpy as np\n",
    "\n",
    "# Example usage:\n",
    "x = np.array([0, 0.7071, 1, 0.7071, 0, -0.7071, -1, -0.7071])\n",
    "y = np.fft.fft(x)\n",
    "print(y)\n"
   ]
  },
  {
   "attachments": {},
   "cell_type": "markdown",
   "metadata": {},
   "source": [
    "The outputs are not exactly the same but they are equivalent within a small margin of error. The imaginary components in the numpy FFT output are very small and almost zero, while the imaginary components in the custom FFT output are very small but not exactly zero. This is likely due to differences in the implementation of the FFT algorithm and numerical precision."
   ]
  }
 ],
 "metadata": {
  "kernelspec": {
   "display_name": "base",
   "language": "python",
   "name": "python3"
  },
  "language_info": {
   "codemirror_mode": {
    "name": "ipython",
    "version": 3
   },
   "file_extension": ".py",
   "mimetype": "text/x-python",
   "name": "python",
   "nbconvert_exporter": "python",
   "pygments_lexer": "ipython3",
   "version": "3.9.7"
  },
  "orig_nbformat": 4
 },
 "nbformat": 4,
 "nbformat_minor": 2
}
