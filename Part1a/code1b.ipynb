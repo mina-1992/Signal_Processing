{
 "cells": [
  {
   "cell_type": "code",
   "execution_count": 1,
   "metadata": {},
   "outputs": [
    {
     "name": "stdout",
     "output_type": "stream",
     "text": [
      "[0.+0.00000000e+00j 1.+3.33066907e-16j 2.+3.33066907e-16j\n",
      " 3.+2.22044605e-16j 4.-2.22044605e-16j 5.-1.11022302e-15j\n",
      " 6.+6.10622664e-16j 7.-3.55271368e-15j]\n"
     ]
    }
   ],
   "source": [
    "import numpy as np\n",
    "\n",
    "def idft_slow(y):\n",
    "    \"\"\"Compute the inverse discrete Fourier Transform of the 1D array y\"\"\"\n",
    "    y = np.asarray(y, dtype=complex)\n",
    "    N = y.shape[0]\n",
    "    n = np.arange(N)\n",
    "    k = n.reshape((N, 1))\n",
    "    M = np.exp(2j * np.pi * k * n / N)\n",
    "    return np.dot(M, y) / N\n",
    "\n",
    "y = np.array([28.+0.00000000e+00j, -4.+9.65685425e+00j, -4.+4.00000000e+00j, -4.+1.65685425e+00j, -4.+0.00000000e+00j, -4.-1.65685425e+00j, -4.-4.00000000e+00j, -4.-9.65685425e+00j])\n",
    "x = idft_slow(y)\n",
    "print(x)\n"
   ]
  }
 ],
 "metadata": {
  "kernelspec": {
   "display_name": "base",
   "language": "python",
   "name": "python3"
  },
  "language_info": {
   "codemirror_mode": {
    "name": "ipython",
    "version": 3
   },
   "file_extension": ".py",
   "mimetype": "text/x-python",
   "name": "python",
   "nbconvert_exporter": "python",
   "pygments_lexer": "ipython3",
   "version": "3.9.7"
  },
  "orig_nbformat": 4
 },
 "nbformat": 4,
 "nbformat_minor": 2
}
