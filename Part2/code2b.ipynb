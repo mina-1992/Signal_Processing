{
 "cells": [
  {
   "cell_type": "code",
   "execution_count": 4,
   "metadata": {},
   "outputs": [
    {
     "name": "stdout",
     "output_type": "stream",
     "text": [
      "[28.+0.00000000e+00j -4.+9.65685425e+00j -4.+4.00000000e+00j\n",
      " -4.+1.65685425e+00j -4.-3.42901104e-15j -4.-1.65685425e+00j\n",
      " -4.-4.00000000e+00j -4.-9.65685425e+00j]\n"
     ]
    }
   ],
   "source": [
    "import numpy as np\n",
    "\n",
    "def dft_slow(x):\n",
    "    \"\"\"Compute the discrete Fourier Transform of the 1D array x\"\"\"\n",
    "    x = np.asarray(x, dtype=float)\n",
    "    N = x.shape[0]\n",
    "    n = np.arange(N)\n",
    "    k = n.reshape((N, 1))\n",
    "    M = np.exp(-2j * np.pi * k * n / N)\n",
    "    return np.dot(M, x)\n",
    "\n",
    "\n",
    "# Example usage:\n",
    "x = np.array([0, 1, 2, 3, 4, 5, 6, 7])\n",
    "y = dft_slow(x)\n",
    "print(y)\n"
   ]
  },
  {
   "cell_type": "code",
   "execution_count": 5,
   "metadata": {},
   "outputs": [
    {
     "name": "stdout",
     "output_type": "stream",
     "text": [
      "[0.+0.00000000e+00j 1.+3.33066907e-16j 2.+3.33066907e-16j\n",
      " 3.+2.22044605e-16j 4.-2.22044605e-16j 5.-1.11022302e-15j\n",
      " 6.+6.10622664e-16j 7.-3.55271368e-15j]\n"
     ]
    }
   ],
   "source": [
    "import numpy as np\n",
    "\n",
    "def idft_slow(y):\n",
    "    \"\"\"Compute the inverse discrete Fourier Transform of the 1D array y\"\"\"\n",
    "    y = np.asarray(y, dtype=complex)\n",
    "    N = y.shape[0]\n",
    "    n = np.arange(N)\n",
    "    k = n.reshape((N, 1))\n",
    "    M = np.exp(2j * np.pi * k * n / N)\n",
    "    return np.dot(M, y) / N\n",
    "\n",
    "y = np.array([28.+0.00000000e+00j, -4.+9.65685425e+00j, -4.+4.00000000e+00j, -4.+1.65685425e+00j, -4.+0.00000000e+00j, -4.-1.65685425e+00j, -4.-4.00000000e+00j, -4.-9.65685425e+00j])\n",
    "x = idft_slow(y)\n",
    "print(x)\n"
   ]
  },
  {
   "cell_type": "code",
   "execution_count": 6,
   "metadata": {},
   "outputs": [
    {
     "name": "stdout",
     "output_type": "stream",
     "text": [
      "[28.+0.00000000e+00j -4.+9.65685425e+00j -4.+4.00000000e+00j\n",
      " -4.+1.65685425e+00j -4.-3.42901104e-15j -4.-1.65685425e+00j\n",
      " -4.-4.00000000e+00j -4.-9.65685425e+00j]\n"
     ]
    }
   ],
   "source": [
    "import numpy as np\n",
    "\n",
    "def fft(x):\n",
    "    \"\"\"Compute the FFT of the 1D array x using the Cooley-Tukey algorithm\"\"\"\n",
    "    x = np.asarray(x, dtype=float)\n",
    "    N = x.shape[0]\n",
    "\n",
    "    if N % 2 > 0:\n",
    "        raise ValueError(\"Size of x must be a power of 2\")\n",
    "\n",
    "    elif N <= 32:  # switch to brute-force\n",
    "        return dft_slow(x)\n",
    "\n",
    "    else:\n",
    "        X_even = fft(x[::2])\n",
    "        X_odd = fft(x[1::2])\n",
    "        factor = np.exp(-2j * np.pi * np.arange(N) / N)\n",
    "        return np.concatenate([X_even + factor[:N // 2] * X_odd,\n",
    "                               X_even + factor[N // 2:] * X_odd])\n",
    "    \n",
    "x = np.array([0, 1, 2, 3, 4, 5, 6, 7])\n",
    "y = fft(x)\n",
    "print(y)"
   ]
  },
  {
   "cell_type": "code",
   "execution_count": 13,
   "metadata": {},
   "outputs": [
    {
     "name": "stdout",
     "output_type": "stream",
     "text": [
      "[0.+0.00000000e+00j 1.+3.33066907e-16j 2.+3.33066907e-16j\n",
      " 3.+2.22044605e-16j 4.-2.22044605e-16j 5.-1.11022302e-15j\n",
      " 6.+6.10622664e-16j 7.-3.55271368e-15j]\n"
     ]
    }
   ],
   "source": [
    "import numpy as np\n",
    "\n",
    "def ifft(x):\n",
    "    \"\"\"Compute the IFFT of the 1D array x using the Cooley-Tukey algorithm\"\"\"\n",
    "    x = np.asarray(x, dtype=complex)\n",
    "    N = x.shape[0]\n",
    "\n",
    "    if N % 2 > 0:\n",
    "        raise ValueError(\"Size of x must be a power of 2\")\n",
    "\n",
    "    elif N <= 32:  # switch to brute-force\n",
    "        return idft_slow(x)\n",
    "\n",
    "    else:\n",
    "        X_even = ifft(x[::2])\n",
    "        X_odd = ifft(x[1::2])\n",
    "        factor = np.exp(2j * np.pi * np.arange(N) / N)\n",
    "        return np.concatenate([X_even + factor[:N // 2] * X_odd,\n",
    "                               X_even + factor[N // 2:] * X_odd]) / 2\n",
    "\n",
    "\n",
    "y = np.array([28.+0.00000000e+00j, -4.+9.65685425e+00j, -4.+4.00000000e+00j, -4.+1.65685425e+00j, -4.+0.00000000e+00j, -4.-1.65685425e+00j, -4.-4.00000000e+00j, -4.-9.65685425e+00j])\n",
    "x = ifft(y)\n",
    "print(x)\n",
    "\n",
    "\n",
    "\n"
   ]
  }
 ],
 "metadata": {
  "kernelspec": {
   "display_name": "base",
   "language": "python",
   "name": "python3"
  },
  "language_info": {
   "codemirror_mode": {
    "name": "ipython",
    "version": 3
   },
   "file_extension": ".py",
   "mimetype": "text/x-python",
   "name": "python",
   "nbconvert_exporter": "python",
   "pygments_lexer": "ipython3",
   "version": "3.9.7"
  },
  "orig_nbformat": 4
 },
 "nbformat": 4,
 "nbformat_minor": 2
}
