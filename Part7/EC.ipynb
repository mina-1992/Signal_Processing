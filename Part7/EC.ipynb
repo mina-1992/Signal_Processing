{
 "cells": [
  {
   "cell_type": "code",
   "execution_count": 6,
   "metadata": {},
   "outputs": [
    {
     "name": "stdout",
     "output_type": "stream",
     "text": [
      "[ 0.          0.29289322  0.         -1.          4.82842712 -1.12132034\n",
      " -2.         -1.        ]\n"
     ]
    },
    {
     "name": "stderr",
     "output_type": "stream",
     "text": [
      "/var/folders/0m/b4v9j7zx2bg11qpdg5p03g_r0000gn/T/ipykernel_35903/4161445470.py:22: ComplexWarning: Casting complex values to real discards the imaginary part\n",
      "  x[k] = u + t\n",
      "/var/folders/0m/b4v9j7zx2bg11qpdg5p03g_r0000gn/T/ipykernel_35903/4161445470.py:23: ComplexWarning: Casting complex values to real discards the imaginary part\n",
      "  x[k + stride // 2] = u - t\n"
     ]
    },
    {
     "data": {
      "text/plain": [
       "False"
      ]
     },
     "execution_count": 6,
     "metadata": {},
     "output_type": "execute_result"
    }
   ],
   "source": [
    "import numpy as np\n",
    "\n",
    "def fft_iter(x):\n",
    "    \"\"\"Compute the FFT of the 1D array x using the iterative Cooley-Tukey algorithm\"\"\"\n",
    "    n = len(x)\n",
    "    levels = int(np.log2(n))\n",
    "\n",
    "    # Bit reversal\n",
    "    rev_indices = np.zeros(n, dtype=int)\n",
    "    for i in range(n):\n",
    "        rev_indices[i] = int('{:0{bits}b}'.format(i, bits=levels)[::-1], 2)\n",
    "\n",
    "    # Iterative FFT\n",
    "    for level in range(1, levels + 1):\n",
    "        stride = 2 ** level\n",
    "        w_n = np.exp(-2j * np.pi / stride)\n",
    "        for j in range(0, n, stride):\n",
    "            w = 1\n",
    "            for k in range(j, j + stride // 2):\n",
    "                t = w * x[k + stride // 2]\n",
    "                u = x[k]\n",
    "                x[k] = u + t\n",
    "                x[k + stride // 2] = u - t\n",
    "                w *= w_n ** (rev_indices[k] % (stride // 2))\n",
    "\n",
    "    return x\n",
    "x = np.array([0, np.sqrt(2)/2, 1, np.sqrt(2)/2, 0, -np.sqrt(2)/2, -1, -np.sqrt(2)/2])\n",
    "y = fft_iter(x)\n",
    "print(y)\n",
    "\n",
    "np.allclose(fft_iter(x), np.fft.fft(x))"
   ]
  },
  {
   "cell_type": "code",
   "execution_count": 5,
   "metadata": {},
   "outputs": [
    {
     "name": "stdout",
     "output_type": "stream",
     "text": [
      "[0.+0.00000000e+00j 0.-3.99998082e+00j 0.+0.00000000e+00j\n",
      " 0.+1.91800920e-05j 0.+0.00000000e+00j 0.-1.91800920e-05j\n",
      " 0.+0.00000000e+00j 0.+3.99998082e+00j]\n"
     ]
    }
   ],
   "source": [
    "import numpy as np\n",
    "\n",
    "# Example usage:\n",
    "x = np.array([0, 0.7071, 1, 0.7071, 0, -0.7071, -1, -0.7071])\n",
    "y = np.fft.fft(x)\n",
    "print(y)"
   ]
  }
 ],
 "metadata": {
  "kernelspec": {
   "display_name": "base",
   "language": "python",
   "name": "python3"
  },
  "language_info": {
   "codemirror_mode": {
    "name": "ipython",
    "version": 3
   },
   "file_extension": ".py",
   "mimetype": "text/x-python",
   "name": "python",
   "nbconvert_exporter": "python",
   "pygments_lexer": "ipython3",
   "version": "3.9.7"
  },
  "orig_nbformat": 4
 },
 "nbformat": 4,
 "nbformat_minor": 2
}
